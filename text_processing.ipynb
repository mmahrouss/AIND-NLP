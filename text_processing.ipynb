{
 "cells": [
  {
   "cell_type": "markdown",
   "metadata": {},
   "source": [
    "# Text Processing\n",
    "\n",
    "## Capturing Text Data\n",
    "\n",
    "### Plain Text"
   ]
  },
  {
   "cell_type": "code",
   "execution_count": 1,
   "metadata": {
    "scrolled": true
   },
   "outputs": [
    {
     "name": "stdout",
     "output_type": "stream",
     "text": [
      "Hieroglyphic writing dates from c. 3000 BC, and is composed of hundreds of symbols. A hieroglyph can represent a word, a sound, or a silent determinative; and the same symbol can serve different purposes in different contexts. Hieroglyphs were a formal script, used on stone monuments and in tombs, that could be as detailed as individual works of art.\n",
      "\n"
     ]
    }
   ],
   "source": [
    "import os\n",
    "\n",
    "# Read in a plain text file\n",
    "with open(os.path.join(\"data\", \"hieroglyph.txt\"), \"r\") as f:\n",
    "    text = f.read()\n",
    "    print(text)"
   ]
  },
  {
   "cell_type": "markdown",
   "metadata": {},
   "source": [
    "### Tabular Data"
   ]
  },
  {
   "cell_type": "code",
   "execution_count": 2,
   "metadata": {
    "scrolled": true
   },
   "outputs": [
    {
     "data": {
      "text/html": [
       "<div>\n",
       "<style scoped>\n",
       "    .dataframe tbody tr th:only-of-type {\n",
       "        vertical-align: middle;\n",
       "    }\n",
       "\n",
       "    .dataframe tbody tr th {\n",
       "        vertical-align: top;\n",
       "    }\n",
       "\n",
       "    .dataframe thead th {\n",
       "        text-align: right;\n",
       "    }\n",
       "</style>\n",
       "<table border=\"1\" class=\"dataframe\">\n",
       "  <thead>\n",
       "    <tr style=\"text-align: right;\">\n",
       "      <th></th>\n",
       "      <th>publisher</th>\n",
       "      <th>title</th>\n",
       "    </tr>\n",
       "  </thead>\n",
       "  <tbody>\n",
       "    <tr>\n",
       "      <th>0</th>\n",
       "      <td>Livemint</td>\n",
       "      <td>fed's charles plosser sees high bar for change...</td>\n",
       "    </tr>\n",
       "    <tr>\n",
       "      <th>1</th>\n",
       "      <td>IFA Magazine</td>\n",
       "      <td>us open: stocks fall after fed official hints ...</td>\n",
       "    </tr>\n",
       "    <tr>\n",
       "      <th>2</th>\n",
       "      <td>IFA Magazine</td>\n",
       "      <td>fed risks falling 'behind the curve', charles ...</td>\n",
       "    </tr>\n",
       "    <tr>\n",
       "      <th>3</th>\n",
       "      <td>Moneynews</td>\n",
       "      <td>fed's plosser: nasty weather has curbed job gr...</td>\n",
       "    </tr>\n",
       "    <tr>\n",
       "      <th>4</th>\n",
       "      <td>NASDAQ</td>\n",
       "      <td>plosser: fed may have to accelerate tapering pace</td>\n",
       "    </tr>\n",
       "  </tbody>\n",
       "</table>\n",
       "</div>"
      ],
      "text/plain": [
       "      publisher                                              title\n",
       "0      Livemint  fed's charles plosser sees high bar for change...\n",
       "1  IFA Magazine  us open: stocks fall after fed official hints ...\n",
       "2  IFA Magazine  fed risks falling 'behind the curve', charles ...\n",
       "3     Moneynews  fed's plosser: nasty weather has curbed job gr...\n",
       "4        NASDAQ  plosser: fed may have to accelerate tapering pace"
      ]
     },
     "execution_count": 2,
     "metadata": {},
     "output_type": "execute_result"
    }
   ],
   "source": [
    "import pandas as pd\n",
    "\n",
    "# Extract text column from a dataframe\n",
    "df = pd.read_csv(os.path.join(\"data\", \"news.csv\"))\n",
    "df.head()[['publisher', 'title']]\n",
    "\n",
    "# Convert text column to lowercase\n",
    "df['title'] = df['title'].str.lower()\n",
    "df.head()[['publisher', 'title']]"
   ]
  },
  {
   "cell_type": "markdown",
   "metadata": {},
   "source": [
    "### Online Resource"
   ]
  },
  {
   "cell_type": "code",
   "execution_count": 3,
   "metadata": {
    "scrolled": true
   },
   "outputs": [
    {
     "name": "stdout",
     "output_type": "stream",
     "text": [
      "{\n",
      "    \"success\": {\n",
      "        \"total\": 1\n",
      "    },\n",
      "    \"contents\": {\n",
      "        \"quotes\": [\n",
      "            {\n",
      "                \"quote\": \"If you are born poor, it is not your mistake. But if you die poor it is your mistake.\",\n",
      "                \"length\": \"85\",\n",
      "                \"author\": \"Bill Gates\",\n",
      "                \"tags\": [\n",
      "                    \"fail\",\n",
      "                    \"inspire\",\n",
      "                    \"poor\",\n",
      "                    \"tod\",\n",
      "                    \"winning\"\n",
      "                ],\n",
      "                \"category\": \"inspire\",\n",
      "                \"date\": \"2019-11-22\",\n",
      "                \"permalink\": \"https://theysaidso.com/quote/bill-gates-if-you-are-born-poor-it-is-not-your-mistake-but-if-you-die-poor-it-is\",\n",
      "                \"title\": \"Inspiring Quote of the day\",\n",
      "                \"background\": \"https://theysaidso.com/img/bgs/man_on_the_mountain.jpg\",\n",
      "                \"id\": \"T2jjeTPKQNASih_HgzXOYgeF\"\n",
      "            }\n",
      "        ],\n",
      "        \"copyright\": \"2017-19 theysaidso.com\"\n",
      "    }\n",
      "}\n",
      "If you are born poor, it is not your mistake. But if you die poor it is your mistake. \n",
      "-- Bill Gates\n"
     ]
    }
   ],
   "source": [
    "import requests\n",
    "import json\n",
    "\n",
    "# Fetch data from a REST API\n",
    "r = requests.get(\n",
    "    \"https://quotes.rest/qod.json\")\n",
    "res = r.json()\n",
    "print(json.dumps(res, indent=4))\n",
    "\n",
    "# Extract relevant object and field\n",
    "q = res[\"contents\"][\"quotes\"][0]\n",
    "print(q[\"quote\"], \"\\n--\", q[\"author\"])"
   ]
  },
  {
   "cell_type": "markdown",
   "metadata": {},
   "source": [
    "## Cleaning"
   ]
  },
  {
   "cell_type": "code",
   "execution_count": 4,
   "metadata": {
    "scrolled": true
   },
   "outputs": [
    {
     "name": "stdout",
     "output_type": "stream",
     "text": [
      "<html op=\"news\"><head><meta name=\"referrer\" content=\"origin\"><meta name=\"viewport\" content=\"width=device-width, initial-scale=1.0\"><link rel=\"stylesheet\" type=\"text/css\" href=\"news.css?NscOqXD7rRVen0AfZKIT\">\n",
      "            <link rel=\"shortcut icon\" href=\"favicon.ico\">\n",
      "          <link rel=\"alternate\" type=\"application/rss+xml\" title=\"RSS\" href=\"rss\">\n",
      "        <title>Hacker News</title></head><body><center><table id=\"hnmain\" border=\"0\" cellpadding=\"0\" cellspacing=\"0\" width=\"85%\" bgcolor=\"#f6f6ef\">\n",
      "        <tr><td bgcolor=\"#ff6600\"><table border=\"0\" cellpadding=\"0\" cellspacing=\"0\" width=\"100%\" style=\"padding:2px\"><tr><td style=\"width:18px;padding-right:4px\"><a href=\"https://news.ycombinator.com\"><img src=\"y18.gif\" width=\"18\" height=\"18\" style=\"border:1px white solid;\"></a></td>\n",
      "                  <td style=\"line-height:12pt; height:10px;\"><span class=\"pagetop\"><b class=\"hnname\"><a href=\"news\">Hacker News</a></b>\n",
      "              <a href=\"newest\">new</a> | <a href=\"front\">past</a> | <a href=\"newcomments\">comments</a> | <a href=\"ask\">ask</a> | <a href=\"show\">show</a> | <a href=\"jobs\">jobs</a> | <a href=\"submit\">submit</a>            </span></td><td style=\"text-align:right;padding-right:4px;\"><span class=\"pagetop\">\n",
      "                              <a href=\"login?goto=news\">login</a>\n",
      "                          </span></td>\n",
      "              </tr></table></td></tr>\n",
      "<tr id=\"pagespace\" title=\"\" style=\"height:10px\"></tr><tr><td><table border=\"0\" cellpadding=\"0\" cellspacing=\"0\" class=\"itemlist\">\n",
      "              <tr class='athing' id='21604710'>\n",
      "      <td align=\"right\" valign=\"top\" class=\"title\"><span class=\"rank\">1.</span></td>      <td valign=\"top\" class=\"votelinks\"><center><a id='up_21604710' href='vote?id=21604710&amp;how=up&amp;goto=news'><div class='votearrow' title='upvote'></div></a></center></td><td class=\"title\"><a href=\"https://asthasr.github.io/posts/danger-of-simplicity\" class=\"storylink\">The Danger of “Simplicity”</a><span class=\"sitebit comhead\"> (<a href=\"from?site=asthasr.github.io\"><span class=\"sitestr\">asthasr.github.io</span></a>)</span></td></tr><tr><td colspan=\"2\"></td><td class=\"subtext\">\n",
      "        <span class=\"score\" id=\"score_21604710\">85 points</span> by <a href=\"user?id=emrehan\" class=\"hnuser\">emrehan</a> <span class=\"age\"><a href=\"item?id=21604710\">2 hours ago</a></span> <span id=\"unv_21604710\"></span> | <a href=\"hide?id=21604710&amp;goto=news\">hide</a> | <a href=\"item?id=21604710\">38&nbsp;comments</a>              </td></tr>\n",
      "      <tr class=\"spacer\" style=\"height:5px\"></tr>\n",
      "                <tr class='athing' id='21602437'>\n",
      "      <td align=\"right\" valign=\"top\" class=\"title\"><span class=\"rank\">2.</span></td>      <td valign=\"top\" class=\"votelinks\"><center><a id='up_21602437' href='vote?id=21602437&amp;how=up&amp;goto=news'><div class='votearrow' title='upvote'></div></a></center></td><td class=\"title\"><a href=\"https://www.tesla.com/cybertruck\" class=\"storylink\">Tesla Cybertruck</a><span class=\"sitebit comhead\"> (<a href=\"from?site=tesla.com\"><span class=\"sitestr\">tesla.com</span></a>)</span></td></tr><tr><td colspan=\"2\"></td><td class=\"subtext\">\n",
      "        <span class=\"score\" id=\"score_21602437\">1159 points</span> by <a href=\"user?id=sahin-boydas\" class=\"hnuser\">sahin-boydas</a> <span class=\"age\"><a href=\"item?id=21602437\">9 hours ago</a></span> <span id=\"unv_21602437\"></span> | <a href=\"hide?id=21602437&amp;goto=news\">hide</a> | <a href=\"item?id=21602437\">1068&nbsp;comments</a>              </td></tr>\n",
      "      <tr class=\"spacer\" style=\"height:5px\"></tr>\n",
      "                <tr class='athing' id='21599546'>\n",
      "      <td align=\"right\" valign=\"top\" class=\"title\"><span class=\"rank\">3.</span></td>      <td valign=\"top\" class=\"votelinks\"><center><a id='up_21599546' href='vote?id=21599546&amp;how=up&amp;goto=news'><div class='votearrow' title='upvote'></div></a></center></td><td class=\"title\"><a href=\"https://github.com/Gabriel439/simple-twitter/blob/master/Main.hs\" class=\"storylink\">Simple-twitter: A bare-bones Twitter clone implemented in a single file</a><span class=\"sitebit comhead\"> (<a href=\"from?site=github.com\"><span class=\"sitestr\">github.com</span></a>)</span></td></tr><tr><td colspan=\"2\"></td><td class=\"subtext\">\n",
      "        <span class=\"score\" id=\"score_21599546\">385 points</span> by <a href=\"user?id=revskill\" class=\"hnuser\">revskill</a> <span class=\"age\"><a href=\"item?id=21599546\">16 hours ago</a></span> <span id=\"unv_21599546\"></span> | <a href=\"hide?id=21599546&amp;goto=news\">hide</a> | <a href=\"item?id=21599546\">123&nbsp;comments</a>              </td></tr>\n",
      "      <tr class=\"spacer\" style=\"height:5px\"></tr>\n",
      "                <tr class='athing' id='21602113'>\n",
      "      <td align=\"right\" valign=\"top\" class=\"title\"><span class=\"rank\">4.</span></td>      <td valign=\"top\" class=\"votelinks\"><center><a id='up_21602113' href='vote?id=21602113&amp;how=up&amp;goto=news'><div class='votearrow' title='upvote'></div></a></center></td><td class=\"title\"><a href=\"https://opendocs.github.io/texme/examples/demo.html\" class=\"storylink\">Show HN: TeXMe Demo – Self-Rendering Markdown and LaTeX Documents</a><span class=\"sitebit comhead\"> (<a href=\"from?site=opendocs.github.io\"><span class=\"sitestr\">opendocs.github.io</span></a>)</span></td></tr><tr><td colspan=\"2\"></td><td class=\"subtext\">\n",
      "        <span class=\"score\" id=\"score_21602113\">162 points</span> by <a href=\"user?id=susam\" class=\"hnuser\">susam</a> <span class=\"age\"><a href=\"item?id=21602113\">10 hours ago</a></span> <span id=\"unv_21602113\"></span> | <a href=\"hide?id=21602113&amp;goto=news\">hide</a> | <a href=\"item?id=21602113\">31&nbsp;comments</a>              </td></tr>\n",
      "      <tr class=\"spacer\" style=\"height:5px\"></tr>\n",
      "                <tr class='athing' id='21605115'>\n",
      "      <td align=\"right\" valign=\"top\" class=\"title\"><span class=\"rank\">5.</span></td>      <td valign=\"top\" class=\"votelinks\"><center><a id='up_21605115' href='vote?id=21605115&amp;how=up&amp;goto=news'><div class='votearrow' title='upvote'></div></a></center></td><td class=\"title\"><a href=\"https://www.project-syndicate.org/commentary/rising-sea-levels-media-alarmism-by-bjorn-lomborg-2019-11\" class=\"storylink\">Humans Can Survive Underwater</a><span class=\"sitebit comhead\"> (<a href=\"from?site=project-syndicate.org\"><span class=\"sitestr\">project-syndicate.org</span></a>)</span></td></tr><tr><td colspan=\"2\"></td><td class=\"subtext\">\n",
      "        <span class=\"score\" id=\"score_21605115\">19 points</span> by <a href=\"user?id=RickJWagner\" class=\"hnuser\">RickJWagner</a> <span class=\"age\"><a href=\"item?id=21605115\">43 minutes ago</a></span> <span id=\"unv_21605115\"></span> | <a href=\"hide?id=21605115&amp;goto=news\">hide</a> | <a href=\"item?id=21605115\">discuss</a>              </td></tr>\n",
      "      <tr class=\"spacer\" style=\"height:5px\"></tr>\n",
      "                <tr class='athing' id='21600101'>\n",
      "      <td align=\"right\" valign=\"top\" class=\"title\"><span class=\"rank\">6.</span></td>      <td valign=\"top\" class=\"votelinks\"><center><a id='up_21600101' href='vote?id=21600101&amp;how=up&amp;goto=news'><div class='votearrow' title='upvote'></div></a></center></td><td class=\"title\"><a href=\"https://twitter.com/TwitterSupport/status/1197630682631221248\" class=\"storylink\">Twitter lets you use 2FA without a phone number</a><span class=\"sitebit comhead\"> (<a href=\"from?site=twitter.com\"><span class=\"sitestr\">twitter.com</span></a>)</span></td></tr><tr><td colspan=\"2\"></td><td class=\"subtext\">\n",
      "        <span class=\"score\" id=\"score_21600101\">227 points</span> by <a href=\"user?id=arkadiyt\" class=\"hnuser\">arkadiyt</a> <span class=\"age\"><a href=\"item?id=21600101\">15 hours ago</a></span> <span id=\"unv_21600101\"></span> | <a href=\"hide?id=21600101&amp;goto=news\">hide</a> | <a href=\"item?id=21600101\">125&nbsp;comments</a>              </td></tr>\n",
      "      <tr class=\"spacer\" style=\"height:5px\"></tr>\n",
      "                <tr class='athing' id='21604987'>\n",
      "      <td align=\"right\" valign=\"top\" class=\"title\"><span class=\"rank\">7.</span></td>      <td valign=\"top\" class=\"votelinks\"><center><a id='up_21604987' href='vote?id=21604987&amp;how=up&amp;goto=news'><div class='votearrow' title='upvote'></div></a></center></td><td class=\"title\"><a href=\"https://umanovskis.se/blog/post/leaky-faucet/\" class=\"storylink\" rel=\"nofollow\">A Leaky Cryptocurrency Faucet</a><span class=\"sitebit comhead\"> (<a href=\"from?site=umanovskis.se\"><span class=\"sitestr\">umanovskis.se</span></a>)</span></td></tr><tr><td colspan=\"2\"></td><td class=\"subtext\">\n",
      "        <span class=\"score\" id=\"score_21604987\">6 points</span> by <a href=\"user?id=ACS_Solver\" class=\"hnuser\">ACS_Solver</a> <span class=\"age\"><a href=\"item?id=21604987\">1 hour ago</a></span> <span id=\"unv_21604987\"></span> | <a href=\"hide?id=21604987&amp;goto=news\">hide</a> | <a href=\"item?id=21604987\">1&nbsp;comment</a>              </td></tr>\n",
      "      <tr class=\"spacer\" style=\"height:5px\"></tr>\n",
      "                <tr class='athing' id='21601505'>\n",
      "      <td align=\"right\" valign=\"top\" class=\"title\"><span class=\"rank\">8.</span></td>      <td valign=\"top\" class=\"votelinks\"><center><a id='up_21601505' href='vote?id=21601505&amp;how=up&amp;goto=news'><div class='votearrow' title='upvote'></div></a></center></td><td class=\"title\"><a href=\"https://arxiv.org/abs/1902.08142\" class=\"storylink\">Evaluating the Search Phase of Neural Architecture Search</a><span class=\"sitebit comhead\"> (<a href=\"from?site=arxiv.org\"><span class=\"sitestr\">arxiv.org</span></a>)</span></td></tr><tr><td colspan=\"2\"></td><td class=\"subtext\">\n",
      "        <span class=\"score\" id=\"score_21601505\">112 points</span> by <a href=\"user?id=reedwolf\" class=\"hnuser\">reedwolf</a> <span class=\"age\"><a href=\"item?id=21601505\">12 hours ago</a></span> <span id=\"unv_21601505\"></span> | <a href=\"hide?id=21601505&amp;goto=news\">hide</a> | <a href=\"item?id=21601505\">8&nbsp;comments</a>              </td></tr>\n",
      "      <tr class=\"spacer\" style=\"height:5px\"></tr>\n",
      "                <tr class='athing' id='21602121'>\n",
      "      <td align=\"right\" valign=\"top\" class=\"title\"><span class=\"rank\">9.</span></td>      <td valign=\"top\" class=\"votelinks\"><center><a id='up_21602121' href='vote?id=21602121&amp;how=up&amp;goto=news'><div class='votearrow' title='upvote'></div></a></center></td><td class=\"title\"><a href=\"https://www.tandfonline.com/doi/full/10.1080/17513472.2017.1368133\" class=\"storylink\">Topology-disturbing objects: a new class of 3D optical illusion (2017)</a><span class=\"sitebit comhead\"> (<a href=\"from?site=tandfonline.com\"><span class=\"sitestr\">tandfonline.com</span></a>)</span></td></tr><tr><td colspan=\"2\"></td><td class=\"subtext\">\n",
      "        <span class=\"score\" id=\"score_21602121\">92 points</span> by <a href=\"user?id=aesthesia\" class=\"hnuser\">aesthesia</a> <span class=\"age\"><a href=\"item?id=21602121\">10 hours ago</a></span> <span id=\"unv_21602121\"></span> | <a href=\"hide?id=21602121&amp;goto=news\">hide</a> | <a href=\"item?id=21602121\">9&nbsp;comments</a>              </td></tr>\n",
      "      <tr class=\"spacer\" style=\"height:5px\"></tr>\n",
      "                <tr class='athing' id='21599545'>\n",
      "      <td align=\"right\" valign=\"top\" class=\"title\"><span class=\"rank\">10.</span></td>      <td valign=\"top\" class=\"votelinks\"><center><a id='up_21599545' href='vote?id=21599545&amp;how=up&amp;goto=news'><div class='votearrow' title='upvote'></div></a></center></td><td class=\"title\"><a href=\"https://limitedresults.com/2019/11/pwn-the-esp32-forever-flash-encryption-and-sec-boot-keys-extraction/\" class=\"storylink\">Pwn the ESP32 Forever: Flash Encryption and SEC. Boot Keys Extraction</a><span class=\"sitebit comhead\"> (<a href=\"from?site=limitedresults.com\"><span class=\"sitestr\">limitedresults.com</span></a>)</span></td></tr><tr><td colspan=\"2\"></td><td class=\"subtext\">\n",
      "        <span class=\"score\" id=\"score_21599545\">199 points</span> by <a href=\"user?id=wolframio\" class=\"hnuser\">wolframio</a> <span class=\"age\"><a href=\"item?id=21599545\">16 hours ago</a></span> <span id=\"unv_21599545\"></span> | <a href=\"hide?id=21599545&amp;goto=news\">hide</a> | <a href=\"item?id=21599545\">71&nbsp;comments</a>              </td></tr>\n",
      "      <tr class=\"spacer\" style=\"height:5px\"></tr>\n",
      "                <tr class='athing' id='21603483'>\n",
      "      <td align=\"right\" valign=\"top\" class=\"title\"><span class=\"rank\">11.</span></td>      <td valign=\"top\" class=\"votelinks\"><center><a id='up_21603483' href='vote?id=21603483&amp;how=up&amp;goto=news'><div class='votearrow' title='upvote'></div></a></center></td><td class=\"title\"><a href=\"https://www.arp242.net/go-last-resort.html\" class=\"storylink\">Go’s Features of Last Resort</a><span class=\"sitebit comhead\"> (<a href=\"from?site=arp242.net\"><span class=\"sitestr\">arp242.net</span></a>)</span></td></tr><tr><td colspan=\"2\"></td><td class=\"subtext\">\n",
      "        <span class=\"score\" id=\"score_21603483\">40 points</span> by <a href=\"user?id=kristianp\" class=\"hnuser\">kristianp</a> <span class=\"age\"><a href=\"item?id=21603483\">6 hours ago</a></span> <span id=\"unv_21603483\"></span> | <a href=\"hide?id=21603483&amp;goto=news\">hide</a> | <a href=\"item?id=21603483\">11&nbsp;comments</a>              </td></tr>\n",
      "      <tr class=\"spacer\" style=\"height:5px\"></tr>\n",
      "                <tr class='athing' id='21602068'>\n",
      "      <td align=\"right\" valign=\"top\" class=\"title\"><span class=\"rank\">12.</span></td>      <td valign=\"top\" class=\"votelinks\"><center><a id='up_21602068' href='vote?id=21602068&amp;how=up&amp;goto=news'><div class='votearrow' title='upvote'></div></a></center></td><td class=\"title\"><a href=\"https://blogs.sciencemag.org/pipeline/archives/2019/11/15/another-new-form-of-carbon-its-a-weird-one\" class=\"storylink\">Another New Form of Carbon</a><span class=\"sitebit comhead\"> (<a href=\"from?site=sciencemag.org\"><span class=\"sitestr\">sciencemag.org</span></a>)</span></td></tr><tr><td colspan=\"2\"></td><td class=\"subtext\">\n",
      "        <span class=\"score\" id=\"score_21602068\">123 points</span> by <a href=\"user?id=User23\" class=\"hnuser\">User23</a> <span class=\"age\"><a href=\"item?id=21602068\">10 hours ago</a></span> <span id=\"unv_21602068\"></span> | <a href=\"hide?id=21602068&amp;goto=news\">hide</a> | <a href=\"item?id=21602068\">10&nbsp;comments</a>              </td></tr>\n",
      "      <tr class=\"spacer\" style=\"height:5px\"></tr>\n",
      "                <tr class='athing' id='21605145'>\n",
      "      <td align=\"right\" valign=\"top\" class=\"title\"><span class=\"rank\">13.</span></td>      <td valign=\"top\" class=\"votelinks\"><center><a id='up_21605145' href='vote?id=21605145&amp;how=up&amp;goto=news'><div class='votearrow' title='upvote'></div></a></center></td><td class=\"title\"><a href=\"https://about.gitlab.com/blog/2019/11/22/gitlab-12-5-released/\" class=\"storylink\">GitLab 12.5</a><span class=\"sitebit comhead\"> (<a href=\"from?site=gitlab.com\"><span class=\"sitestr\">gitlab.com</span></a>)</span></td></tr><tr><td colspan=\"2\"></td><td class=\"subtext\">\n",
      "        <span class=\"score\" id=\"score_21605145\">14 points</span> by <a href=\"user?id=bjoko\" class=\"hnuser\">bjoko</a> <span class=\"age\"><a href=\"item?id=21605145\">39 minutes ago</a></span> <span id=\"unv_21605145\"></span> | <a href=\"hide?id=21605145&amp;goto=news\">hide</a> | <a href=\"item?id=21605145\">discuss</a>              </td></tr>\n",
      "      <tr class=\"spacer\" style=\"height:5px\"></tr>\n",
      "                <tr class='athing' id='21594793'>\n",
      "      <td align=\"right\" valign=\"top\" class=\"title\"><span class=\"rank\">14.</span></td>      <td valign=\"top\" class=\"votelinks\"><center><a id='up_21594793' href='vote?id=21594793&amp;how=up&amp;goto=news'><div class='votearrow' title='upvote'></div></a></center></td><td class=\"title\"><a href=\"http://www.k2.t.u-tokyo.ac.jp/vision/DPM/\" class=\"storylink\">1000fps image projection on deforming non-rigid surface</a><span class=\"sitebit comhead\"> (<a href=\"from?site=u-tokyo.ac.jp\"><span class=\"sitestr\">u-tokyo.ac.jp</span></a>)</span></td></tr><tr><td colspan=\"2\"></td><td class=\"subtext\">\n",
      "        <span class=\"score\" id=\"score_21594793\">1167 points</span> by <a href=\"user?id=hongzi\" class=\"hnuser\">hongzi</a> <span class=\"age\"><a href=\"item?id=21594793\">22 hours ago</a></span> <span id=\"unv_21594793\"></span> | <a href=\"hide?id=21594793&amp;goto=news\">hide</a> | <a href=\"item?id=21594793\">120&nbsp;comments</a>              </td></tr>\n",
      "      <tr class=\"spacer\" style=\"height:5px\"></tr>\n",
      "                <tr class='athing' id='21602056'>\n",
      "      <td align=\"right\" valign=\"top\" class=\"title\"><span class=\"rank\">15.</span></td>      <td valign=\"top\" class=\"votelinks\"><center><a id='up_21602056' href='vote?id=21602056&amp;how=up&amp;goto=news'><div class='votearrow' title='upvote'></div></a></center></td><td class=\"title\"><a href=\"https://arxiv.org/abs/1911.09421\" class=\"storylink\">The Linear Algebra Mapping Problem</a><span class=\"sitebit comhead\"> (<a href=\"from?site=arxiv.org\"><span class=\"sitestr\">arxiv.org</span></a>)</span></td></tr><tr><td colspan=\"2\"></td><td class=\"subtext\">\n",
      "        <span class=\"score\" id=\"score_21602056\">69 points</span> by <a href=\"user?id=furcyd\" class=\"hnuser\">furcyd</a> <span class=\"age\"><a href=\"item?id=21602056\">10 hours ago</a></span> <span id=\"unv_21602056\"></span> | <a href=\"hide?id=21602056&amp;goto=news\">hide</a> | <a href=\"item?id=21602056\">15&nbsp;comments</a>              </td></tr>\n",
      "      <tr class=\"spacer\" style=\"height:5px\"></tr>\n",
      "                <tr class='athing' id='21593257'>\n",
      "      <td align=\"right\" valign=\"top\" class=\"title\"><span class=\"rank\">16.</span></td>      <td valign=\"top\" class=\"votelinks\"><center><a id='up_21593257' href='vote?id=21593257&amp;how=up&amp;goto=news'><div class='votearrow' title='upvote'></div></a></center></td><td class=\"title\"><a href=\"https://hakibenita.com/sql-dos-and-donts\" class=\"storylink\" rel=\"nofollow\">Common Mistakes and Missed Optimization Opportunities in SQL</a><span class=\"sitebit comhead\"> (<a href=\"from?site=hakibenita.com\"><span class=\"sitestr\">hakibenita.com</span></a>)</span></td></tr><tr><td colspan=\"2\"></td><td class=\"subtext\">\n",
      "        <span class=\"score\" id=\"score_21593257\">7 points</span> by <a href=\"user?id=haki\" class=\"hnuser\">haki</a> <span class=\"age\"><a href=\"item?id=21593257\">2 hours ago</a></span> <span id=\"unv_21593257\"></span> | <a href=\"hide?id=21593257&amp;goto=news\">hide</a> | <a href=\"item?id=21593257\">discuss</a>              </td></tr>\n",
      "      <tr class=\"spacer\" style=\"height:5px\"></tr>\n",
      "                <tr class='athing' id='21598665'>\n",
      "      <td align=\"right\" valign=\"top\" class=\"title\"><span class=\"rank\">17.</span></td>      <td valign=\"top\" class=\"votelinks\"><center><a id='up_21598665' href='vote?id=21598665&amp;how=up&amp;goto=news'><div class='votearrow' title='upvote'></div></a></center></td><td class=\"title\"><a href=\"http://cognitivemedium.com/dac-notes\" class=\"storylink\">The impact of direct air carbon capture on climate change</a><span class=\"sitebit comhead\"> (<a href=\"from?site=cognitivemedium.com\"><span class=\"sitestr\">cognitivemedium.com</span></a>)</span></td></tr><tr><td colspan=\"2\"></td><td class=\"subtext\">\n",
      "        <span class=\"score\" id=\"score_21598665\">114 points</span> by <a href=\"user?id=_Microft\" class=\"hnuser\">_Microft</a> <span class=\"age\"><a href=\"item?id=21598665\">17 hours ago</a></span> <span id=\"unv_21598665\"></span> | <a href=\"hide?id=21598665&amp;goto=news\">hide</a> | <a href=\"item?id=21598665\">103&nbsp;comments</a>              </td></tr>\n",
      "      <tr class=\"spacer\" style=\"height:5px\"></tr>\n",
      "                <tr class='athing' id='21601996'>\n",
      "      <td align=\"right\" valign=\"top\" class=\"title\"><span class=\"rank\">18.</span></td>      <td valign=\"top\" class=\"votelinks\"><center><a id='up_21601996' href='vote?id=21601996&amp;how=up&amp;goto=news'><div class='votearrow' title='upvote'></div></a></center></td><td class=\"title\"><a href=\"https://github.com/dwmkerr/hacker-laws\" class=\"storylink\">Hacker Laws: Theories, principles and patterns that developers will find useful</a><span class=\"sitebit comhead\"> (<a href=\"from?site=github.com\"><span class=\"sitestr\">github.com</span></a>)</span></td></tr><tr><td colspan=\"2\"></td><td class=\"subtext\">\n",
      "        <span class=\"score\" id=\"score_21601996\">147 points</span> by <a href=\"user?id=dwmkerr\" class=\"hnuser\">dwmkerr</a> <span class=\"age\"><a href=\"item?id=21601996\">10 hours ago</a></span> <span id=\"unv_21601996\"></span> | <a href=\"hide?id=21601996&amp;goto=news\">hide</a> | <a href=\"item?id=21601996\">20&nbsp;comments</a>              </td></tr>\n",
      "      <tr class=\"spacer\" style=\"height:5px\"></tr>\n",
      "                <tr class='athing' id='21602119'>\n",
      "      <td align=\"right\" valign=\"top\" class=\"title\"><span class=\"rank\">19.</span></td>      <td valign=\"top\" class=\"votelinks\"><center><a id='up_21602119' href='vote?id=21602119&amp;how=up&amp;goto=news'><div class='votearrow' title='upvote'></div></a></center></td><td class=\"title\"><a href=\"https://www.washingtonpost.com/nation/2019/11/21/police-hid-tracking-device-suspects-car-then-charged-him-with-theft-removing-it/\" class=\"storylink\">Indiana man charged with theft for removing police tracking device from car</a><span class=\"sitebit comhead\"> (<a href=\"from?site=washingtonpost.com\"><span class=\"sitestr\">washingtonpost.com</span></a>)</span></td></tr><tr><td colspan=\"2\"></td><td class=\"subtext\">\n",
      "        <span class=\"score\" id=\"score_21602119\">220 points</span> by <a href=\"user?id=pseudolus\" class=\"hnuser\">pseudolus</a> <span class=\"age\"><a href=\"item?id=21602119\">10 hours ago</a></span> <span id=\"unv_21602119\"></span> | <a href=\"hide?id=21602119&amp;goto=news\">hide</a> | <a href=\"item?id=21602119\">131&nbsp;comments</a>              </td></tr>\n",
      "      <tr class=\"spacer\" style=\"height:5px\"></tr>\n",
      "                <tr class='athing' id='21589647'>\n",
      "      <td align=\"right\" valign=\"top\" class=\"title\"><span class=\"rank\">20.</span></td>      <td valign=\"top\" class=\"votelinks\"><center><a id='up_21589647' href='vote?id=21589647&amp;how=up&amp;goto=news'><div class='votearrow' title='upvote'></div></a></center></td><td class=\"title\"><a href=\"https://quuxplusone.github.io/blog/2019/11/20/slack-rich-text-box/\" class=\"storylink\">Slack’s new WYSIWYG input box is terrible</a><span class=\"sitebit comhead\"> (<a href=\"from?site=quuxplusone.github.io\"><span class=\"sitestr\">quuxplusone.github.io</span></a>)</span></td></tr><tr><td colspan=\"2\"></td><td class=\"subtext\">\n",
      "        <span class=\"score\" id=\"score_21589647\">2597 points</span> by <a href=\"user?id=ingve\" class=\"hnuser\">ingve</a> <span class=\"age\"><a href=\"item?id=21589647\">1 day ago</a></span> <span id=\"unv_21589647\"></span> | <a href=\"hide?id=21589647&amp;goto=news\">hide</a> | <a href=\"item?id=21589647\">1034&nbsp;comments</a>              </td></tr>\n",
      "      <tr class=\"spacer\" style=\"height:5px\"></tr>\n",
      "                <tr class='athing' id='21596965'>\n",
      "      <td align=\"right\" valign=\"top\" class=\"title\"><span class=\"rank\">21.</span></td>      <td valign=\"top\" class=\"votelinks\"><center><a id='up_21596965' href='vote?id=21596965&amp;how=up&amp;goto=news'><div class='votearrow' title='upvote'></div></a></center></td><td class=\"title\"><a href=\"https://hacks.mozilla.org/2019/11/multi-value-all-the-wasm/\" class=\"storylink\">Multi-Value All the Wasm</a><span class=\"sitebit comhead\"> (<a href=\"from?site=hacks.mozilla.org\"><span class=\"sitestr\">hacks.mozilla.org</span></a>)</span></td></tr><tr><td colspan=\"2\"></td><td class=\"subtext\">\n",
      "        <span class=\"score\" id=\"score_21596965\">159 points</span> by <a href=\"user?id=feross\" class=\"hnuser\">feross</a> <span class=\"age\"><a href=\"item?id=21596965\">19 hours ago</a></span> <span id=\"unv_21596965\"></span> | <a href=\"hide?id=21596965&amp;goto=news\">hide</a> | <a href=\"item?id=21596965\">28&nbsp;comments</a>              </td></tr>\n",
      "      <tr class=\"spacer\" style=\"height:5px\"></tr>\n",
      "                <tr class='athing' id='21601763'>\n",
      "      <td align=\"right\" valign=\"top\" class=\"title\"><span class=\"rank\">22.</span></td>      <td valign=\"top\" class=\"votelinks\"><center><a id='up_21601763' href='vote?id=21601763&amp;how=up&amp;goto=news'><div class='votearrow' title='upvote'></div></a></center></td><td class=\"title\"><a href=\"https://techcrunch.com/2019/11/18/this-room-sized-led-egg-captures-amazing-3d-models-of-the-people-inside-it/\" class=\"storylink\">3D human model reconstruction with a room-sized LED egg</a><span class=\"sitebit comhead\"> (<a href=\"from?site=techcrunch.com\"><span class=\"sitestr\">techcrunch.com</span></a>)</span></td></tr><tr><td colspan=\"2\"></td><td class=\"subtext\">\n",
      "        <span class=\"score\" id=\"score_21601763\">47 points</span> by <a href=\"user?id=hongzi\" class=\"hnuser\">hongzi</a> <span class=\"age\"><a href=\"item?id=21601763\">11 hours ago</a></span> <span id=\"unv_21601763\"></span> | <a href=\"hide?id=21601763&amp;goto=news\">hide</a> | <a href=\"item?id=21601763\">6&nbsp;comments</a>              </td></tr>\n",
      "      <tr class=\"spacer\" style=\"height:5px\"></tr>\n",
      "                <tr class='athing' id='21598154'>\n",
      "      <td align=\"right\" valign=\"top\" class=\"title\"><span class=\"rank\">23.</span></td>      <td valign=\"top\" class=\"votelinks\"><center><a id='up_21598154' href='vote?id=21598154&amp;how=up&amp;goto=news'><div class='votearrow' title='upvote'></div></a></center></td><td class=\"title\"><a href=\"https://googleprojectzero.blogspot.com/2019/11/bad-binder-android-in-wild-exploit.html\" class=\"storylink\">Bad Binder: Android In-the-Wild Exploit</a><span class=\"sitebit comhead\"> (<a href=\"from?site=googleprojectzero.blogspot.com\"><span class=\"sitestr\">googleprojectzero.blogspot.com</span></a>)</span></td></tr><tr><td colspan=\"2\"></td><td class=\"subtext\">\n",
      "        <span class=\"score\" id=\"score_21598154\">133 points</span> by <a href=\"user?id=el_duderino\" class=\"hnuser\">el_duderino</a> <span class=\"age\"><a href=\"item?id=21598154\">18 hours ago</a></span> <span id=\"unv_21598154\"></span> | <a href=\"hide?id=21598154&amp;goto=news\">hide</a> | <a href=\"item?id=21598154\">43&nbsp;comments</a>              </td></tr>\n",
      "      <tr class=\"spacer\" style=\"height:5px\"></tr>\n",
      "                <tr class='athing' id='21601774'>\n",
      "      <td align=\"right\" valign=\"top\" class=\"title\"><span class=\"rank\">24.</span></td>      <td valign=\"top\" class=\"votelinks\"><center><a id='up_21601774' href='vote?id=21601774&amp;how=up&amp;goto=news'><div class='votearrow' title='upvote'></div></a></center></td><td class=\"title\"><a href=\"https://pytorch.org/deep-learning-with-pytorch\" class=\"storylink\">Deep Learning with PyTorch</a><span class=\"sitebit comhead\"> (<a href=\"from?site=pytorch.org\"><span class=\"sitestr\">pytorch.org</span></a>)</span></td></tr><tr><td colspan=\"2\"></td><td class=\"subtext\">\n",
      "        <span class=\"score\" id=\"score_21601774\">131 points</span> by <a href=\"user?id=saranshk\" class=\"hnuser\">saranshk</a> <span class=\"age\"><a href=\"item?id=21601774\">11 hours ago</a></span> <span id=\"unv_21601774\"></span> | <a href=\"hide?id=21601774&amp;goto=news\">hide</a> | <a href=\"item?id=21601774\">30&nbsp;comments</a>              </td></tr>\n",
      "      <tr class=\"spacer\" style=\"height:5px\"></tr>\n",
      "                <tr class='athing' id='21598372'>\n",
      "      <td align=\"right\" valign=\"top\" class=\"title\"><span class=\"rank\">25.</span></td>      <td valign=\"top\" class=\"votelinks\"><center><a id='up_21598372' href='vote?id=21598372&amp;how=up&amp;goto=news'><div class='votearrow' title='upvote'></div></a></center></td><td class=\"title\"><a href=\"https://www.economist.com/finance-and-economics/2019/11/23/this-years-nobel-prizes-prompt-soul-searching-among-economists\" class=\"storylink\">This year’s Nobel prizes prompt soul-searching among economists</a><span class=\"sitebit comhead\"> (<a href=\"from?site=economist.com\"><span class=\"sitestr\">economist.com</span></a>)</span></td></tr><tr><td colspan=\"2\"></td><td class=\"subtext\">\n",
      "        <span class=\"score\" id=\"score_21598372\">146 points</span> by <a href=\"user?id=pseudolus\" class=\"hnuser\">pseudolus</a> <span class=\"age\"><a href=\"item?id=21598372\">18 hours ago</a></span> <span id=\"unv_21598372\"></span> | <a href=\"hide?id=21598372&amp;goto=news\">hide</a> | <a href=\"item?id=21598372\">104&nbsp;comments</a>              </td></tr>\n",
      "      <tr class=\"spacer\" style=\"height:5px\"></tr>\n",
      "                <tr class='athing' id='21590710'>\n",
      "      <td align=\"right\" valign=\"top\" class=\"title\"><span class=\"rank\">26.</span></td>      <td valign=\"top\" class=\"votelinks\"><center><a id='up_21590710' href='vote?id=21590710&amp;how=up&amp;goto=news'><div class='votearrow' title='upvote'></div></a></center></td><td class=\"title\"><a href=\"https://www.archaeology.org/issues/360-1911/letter-from/8076-jordan-petra-hinterland\" class=\"storylink\">Beyond Petra</a><span class=\"sitebit comhead\"> (<a href=\"from?site=archaeology.org\"><span class=\"sitestr\">archaeology.org</span></a>)</span></td></tr><tr><td colspan=\"2\"></td><td class=\"subtext\">\n",
      "        <span class=\"score\" id=\"score_21590710\">36 points</span> by <a href=\"user?id=Thevet\" class=\"hnuser\">Thevet</a> <span class=\"age\"><a href=\"item?id=21590710\">11 hours ago</a></span> <span id=\"unv_21590710\"></span> | <a href=\"hide?id=21590710&amp;goto=news\">hide</a> | <a href=\"item?id=21590710\">6&nbsp;comments</a>              </td></tr>\n",
      "      <tr class=\"spacer\" style=\"height:5px\"></tr>\n",
      "                <tr class='athing' id='21589205'>\n",
      "      <td align=\"right\" valign=\"top\" class=\"title\"><span class=\"rank\">27.</span></td>      <td valign=\"top\" class=\"votelinks\"><center><a id='up_21589205' href='vote?id=21589205&amp;how=up&amp;goto=news'><div class='votearrow' title='upvote'></div></a></center></td><td class=\"title\"><a href=\"https://thewalrus.ca/the-making-of-margaret-atwood/\" class=\"storylink\">The Making of Margaret Atwood</a><span class=\"sitebit comhead\"> (<a href=\"from?site=thewalrus.ca\"><span class=\"sitestr\">thewalrus.ca</span></a>)</span></td></tr><tr><td colspan=\"2\"></td><td class=\"subtext\">\n",
      "        <span class=\"score\" id=\"score_21589205\">38 points</span> by <a href=\"user?id=apollinaire\" class=\"hnuser\">apollinaire</a> <span class=\"age\"><a href=\"item?id=21589205\">12 hours ago</a></span> <span id=\"unv_21589205\"></span> | <a href=\"hide?id=21589205&amp;goto=news\">hide</a> | <a href=\"item?id=21589205\">28&nbsp;comments</a>              </td></tr>\n",
      "      <tr class=\"spacer\" style=\"height:5px\"></tr>\n",
      "                <tr class='athing' id='21595512'>\n",
      "      <td align=\"right\" valign=\"top\" class=\"title\"><span class=\"rank\">28.</span></td>      <td valign=\"top\" class=\"votelinks\"><center><a id='up_21595512' href='vote?id=21595512&amp;how=up&amp;goto=news'><div class='votearrow' title='upvote'></div></a></center></td><td class=\"title\"><a href=\"https://blog.privacytools.io/the-trouble-with-vpn-and-privacy-reviews/\" class=\"storylink\">The trouble with VPN and privacy review sites</a><span class=\"sitebit comhead\"> (<a href=\"from?site=privacytools.io\"><span class=\"sitestr\">privacytools.io</span></a>)</span></td></tr><tr><td colspan=\"2\"></td><td class=\"subtext\">\n",
      "        <span class=\"score\" id=\"score_21595512\">163 points</span> by <a href=\"user?id=dngray\" class=\"hnuser\">dngray</a> <span class=\"age\"><a href=\"item?id=21595512\">21 hours ago</a></span> <span id=\"unv_21595512\"></span> | <a href=\"hide?id=21595512&amp;goto=news\">hide</a> | <a href=\"item?id=21595512\">99&nbsp;comments</a>              </td></tr>\n",
      "      <tr class=\"spacer\" style=\"height:5px\"></tr>\n",
      "                <tr class='athing' id='21597763'>\n",
      "      <td align=\"right\" valign=\"top\" class=\"title\"><span class=\"rank\">29.</span></td>      <td valign=\"top\" class=\"votelinks\"><center><a id='up_21597763' href='vote?id=21597763&amp;how=up&amp;goto=news'><div class='votearrow' title='upvote'></div></a></center></td><td class=\"title\"><a href=\"https://blog.ycombinator.com/an-update-on-yc-china/\" class=\"storylink\">An update on YC China</a><span class=\"sitebit comhead\"> (<a href=\"from?site=ycombinator.com\"><span class=\"sitestr\">ycombinator.com</span></a>)</span></td></tr><tr><td colspan=\"2\"></td><td class=\"subtext\">\n",
      "        <span class=\"score\" id=\"score_21597763\">369 points</span> by <a href=\"user?id=archibaldJ\" class=\"hnuser\">archibaldJ</a> <span class=\"age\"><a href=\"item?id=21597763\">18 hours ago</a></span> <span id=\"unv_21597763\"></span> | <a href=\"hide?id=21597763&amp;goto=news\">hide</a> | <a href=\"item?id=21597763\">313&nbsp;comments</a>              </td></tr>\n",
      "      <tr class=\"spacer\" style=\"height:5px\"></tr>\n",
      "                <tr class='athing' id='21573554'>\n",
      "      <td align=\"right\" valign=\"top\" class=\"title\"><span class=\"rank\">30.</span></td>      <td valign=\"top\" class=\"votelinks\"><center><a id='up_21573554' href='vote?id=21573554&amp;how=up&amp;goto=news'><div class='votearrow' title='upvote'></div></a></center></td><td class=\"title\"><a href=\"https://martinfowler.com/bliki/ExploratoryTesting.html\" class=\"storylink\">Exploratory Testing</a><span class=\"sitebit comhead\"> (<a href=\"from?site=martinfowler.com\"><span class=\"sitestr\">martinfowler.com</span></a>)</span></td></tr><tr><td colspan=\"2\"></td><td class=\"subtext\">\n",
      "        <span class=\"score\" id=\"score_21573554\">57 points</span> by <a href=\"user?id=PretzelFisch\" class=\"hnuser\">PretzelFisch</a> <span class=\"age\"><a href=\"item?id=21573554\">15 hours ago</a></span> <span id=\"unv_21573554\"></span> | <a href=\"hide?id=21573554&amp;goto=news\">hide</a> | <a href=\"item?id=21573554\">7&nbsp;comments</a>              </td></tr>\n",
      "      <tr class=\"spacer\" style=\"height:5px\"></tr>\n",
      "            <tr class=\"morespace\" style=\"height:10px\"></tr><tr><td colspan=\"2\"></td><td class=\"title\"><a href=\"news?p=2\" class=\"morelink\" rel=\"next\">More</a></td></tr>\n",
      "  </table>\n",
      "</td></tr>\n",
      "<tr><td><img src=\"s.gif\" height=\"10\" width=\"0\"><table width=\"100%\" cellspacing=\"0\" cellpadding=\"1\"><tr><td bgcolor=\"#ff6600\"></td></tr></table><br><center><span class=\"yclinks\"><a href=\"newsguidelines.html\">Guidelines</a>\n",
      "        | <a href=\"newsfaq.html\">FAQ</a>\n",
      "        | <a href=\"mailto:hn@ycombinator.com\">Support</a>\n",
      "        | <a href=\"https://github.com/HackerNews/API\">API</a>\n",
      "        | <a href=\"security.html\">Security</a>\n",
      "        | <a href=\"lists\">Lists</a>\n",
      "        | <a href=\"bookmarklet.html\" rel=\"nofollow\">Bookmarklet</a>\n",
      "        | <a href=\"http://www.ycombinator.com/legal/\">Legal</a>\n",
      "        | <a href=\"http://www.ycombinator.com/apply/\">Apply to YC</a>\n",
      "        | <a href=\"mailto:hn@ycombinator.com\">Contact</a></span><br><br><form method=\"get\" action=\"//hn.algolia.com/\">Search:\n",
      "          <input type=\"text\" name=\"q\" value=\"\" size=\"17\" autocorrect=\"off\" spellcheck=\"false\" autocapitalize=\"off\" autocomplete=\"false\"></form>\n",
      "            </center></td></tr>\n",
      "      </table></center></body><script type='text/javascript' src='hn.js?NscOqXD7rRVen0AfZKIT'></script>\n",
      "  </html>\n",
      "\n"
     ]
    }
   ],
   "source": [
    "import requests\n",
    "\n",
    "# Fetch a web page\n",
    "r = requests.get(\"https://news.ycombinator.com\")\n",
    "print(r.text)"
   ]
  },
  {
   "cell_type": "code",
   "execution_count": 5,
   "metadata": {
    "scrolled": true
   },
   "outputs": [
    {
     "name": "stdout",
     "output_type": "stream",
     "text": [
      "\n",
      "            \n",
      "          \n",
      "        Hacker News\n",
      "        \n",
      "                  Hacker News\n",
      "              new | past | comments | ask | show | jobs | submit            \n",
      "                              login\n",
      "                          \n",
      "              \n",
      "\n",
      "              \n",
      "      1.      The Danger of “Simplicity” (asthasr.github.io)\n",
      "        85 points by emrehan 2 hours ago  | hide | 38&nbsp;comments              \n",
      "      \n",
      "                \n",
      "      2.      Tesla Cybertruck (tesla.com)\n",
      "        1159 points by sahin-boydas 9 hours ago  | hide | 1068&nbsp;comments              \n",
      "      \n",
      "                \n",
      "      3.      Simple-twitter: A bare-bones Twitter clone implemented in a single file (github.com)\n",
      "        385 points by revskill 16 hours ago  | hide | 123&nbsp;comments              \n",
      "      \n",
      "                \n",
      "      4.      Show HN: TeXMe Demo – Self-Rendering Markdown and LaTeX Documents (opendocs.github.io)\n",
      "        162 points by susam 10 hours ago  | hide | 31&nbsp;comments              \n",
      "      \n",
      "                \n",
      "      5.      Humans Can Survive Underwater (project-syndicate.org)\n",
      "        19 points by RickJWagner 43 minutes ago  | hide | discuss              \n",
      "      \n",
      "                \n",
      "      6.      Twitter lets you use 2FA without a phone number (twitter.com)\n",
      "        227 points by arkadiyt 15 hours ago  | hide | 125&nbsp;comments              \n",
      "      \n",
      "                \n",
      "      7.      A Leaky Cryptocurrency Faucet (umanovskis.se)\n",
      "        6 points by ACS_Solver 1 hour ago  | hide | 1&nbsp;comment              \n",
      "      \n",
      "                \n",
      "      8.      Evaluating the Search Phase of Neural Architecture Search (arxiv.org)\n",
      "        112 points by reedwolf 12 hours ago  | hide | 8&nbsp;comments              \n",
      "      \n",
      "                \n",
      "      9.      Topology-disturbing objects: a new class of 3D optical illusion (2017) (tandfonline.com)\n",
      "        92 points by aesthesia 10 hours ago  | hide | 9&nbsp;comments              \n",
      "      \n",
      "                \n",
      "      10.      Pwn the ESP32 Forever: Flash Encryption and SEC. Boot Keys Extraction (limitedresults.com)\n",
      "        199 points by wolframio 16 hours ago  | hide | 71&nbsp;comments              \n",
      "      \n",
      "                \n",
      "      11.      Go’s Features of Last Resort (arp242.net)\n",
      "        40 points by kristianp 6 hours ago  | hide | 11&nbsp;comments              \n",
      "      \n",
      "                \n",
      "      12.      Another New Form of Carbon (sciencemag.org)\n",
      "        123 points by User23 10 hours ago  | hide | 10&nbsp;comments              \n",
      "      \n",
      "                \n",
      "      13.      GitLab 12.5 (gitlab.com)\n",
      "        14 points by bjoko 39 minutes ago  | hide | discuss              \n",
      "      \n",
      "                \n",
      "      14.      1000fps image projection on deforming non-rigid surface (u-tokyo.ac.jp)\n",
      "        1167 points by hongzi 22 hours ago  | hide | 120&nbsp;comments              \n",
      "      \n",
      "                \n",
      "      15.      The Linear Algebra Mapping Problem (arxiv.org)\n",
      "        69 points by furcyd 10 hours ago  | hide | 15&nbsp;comments              \n",
      "      \n",
      "                \n",
      "      16.      Common Mistakes and Missed Optimization Opportunities in SQL (hakibenita.com)\n",
      "        7 points by haki 2 hours ago  | hide | discuss              \n",
      "      \n",
      "                \n",
      "      17.      The impact of direct air carbon capture on climate change (cognitivemedium.com)\n",
      "        114 points by _Microft 17 hours ago  | hide | 103&nbsp;comments              \n",
      "      \n",
      "                \n",
      "      18.      Hacker Laws: Theories, principles and patterns that developers will find useful (github.com)\n",
      "        147 points by dwmkerr 10 hours ago  | hide | 20&nbsp;comments              \n",
      "      \n",
      "                \n",
      "      19.      Indiana man charged with theft for removing police tracking device from car (washingtonpost.com)\n",
      "        220 points by pseudolus 10 hours ago  | hide | 131&nbsp;comments              \n",
      "      \n",
      "                \n",
      "      20.      Slack’s new WYSIWYG input box is terrible (quuxplusone.github.io)\n",
      "        2597 points by ingve 1 day ago  | hide | 1034&nbsp;comments              \n",
      "      \n",
      "                \n",
      "      21.      Multi-Value All the Wasm (hacks.mozilla.org)\n",
      "        159 points by feross 19 hours ago  | hide | 28&nbsp;comments              \n",
      "      \n",
      "                \n",
      "      22.      3D human model reconstruction with a room-sized LED egg (techcrunch.com)\n",
      "        47 points by hongzi 11 hours ago  | hide | 6&nbsp;comments              \n",
      "      \n",
      "                \n",
      "      23.      Bad Binder: Android In-the-Wild Exploit (googleprojectzero.blogspot.com)\n",
      "        133 points by el_duderino 18 hours ago  | hide | 43&nbsp;comments              \n",
      "      \n",
      "                \n",
      "      24.      Deep Learning with PyTorch (pytorch.org)\n",
      "        131 points by saranshk 11 hours ago  | hide | 30&nbsp;comments              \n",
      "      \n",
      "                \n",
      "      25.      This year’s Nobel prizes prompt soul-searching among economists (economist.com)\n",
      "        146 points by pseudolus 18 hours ago  | hide | 104&nbsp;comments              \n",
      "      \n",
      "                \n",
      "      26.      Beyond Petra (archaeology.org)\n",
      "        36 points by Thevet 11 hours ago  | hide | 6&nbsp;comments              \n",
      "      \n",
      "                \n",
      "      27.      The Making of Margaret Atwood (thewalrus.ca)\n",
      "        38 points by apollinaire 12 hours ago  | hide | 28&nbsp;comments              \n",
      "      \n",
      "                \n",
      "      28.      The trouble with VPN and privacy review sites (privacytools.io)\n",
      "        163 points by dngray 21 hours ago  | hide | 99&nbsp;comments              \n",
      "      \n",
      "                \n",
      "      29.      An update on YC China (ycombinator.com)\n",
      "        369 points by archibaldJ 18 hours ago  | hide | 313&nbsp;comments              \n",
      "      \n",
      "                \n",
      "      30.      Exploratory Testing (martinfowler.com)\n",
      "        57 points by PretzelFisch 15 hours ago  | hide | 7&nbsp;comments              \n",
      "      \n",
      "            More\n",
      "  \n",
      "\n",
      "Guidelines\n",
      "        | FAQ\n",
      "        | Support\n",
      "        | API\n",
      "        | Security\n",
      "        | Lists\n",
      "        | Bookmarklet\n",
      "        | Legal\n",
      "        | Apply to YC\n",
      "        | ContactSearch:\n",
      "          \n",
      "            \n",
      "      \n",
      "  \n",
      "\n"
     ]
    }
   ],
   "source": [
    "import re\n",
    "\n",
    "# Remove HTML tags using RegEx\n",
    "pattern = re.compile(r'<.*?>')  # tags look like <...>\n",
    "print(pattern.sub('', r.text))  # replace them with blank"
   ]
  },
  {
   "cell_type": "code",
   "execution_count": 7,
   "metadata": {
    "scrolled": true
   },
   "outputs": [
    {
     "name": "stdout",
     "output_type": "stream",
     "text": [
      "\n",
      "\n",
      "\n",
      "Hacker News\n",
      "\n",
      "Hacker News\n",
      "new | past | comments | ask | show | jobs | submit \n",
      "login\n",
      "\n",
      "\n",
      "\n",
      "\n",
      "1. The Danger of “Simplicity” (asthasr.github.io)\n",
      "85 points by emrehan 2 hours ago  | hide | 38 comments \n",
      "\n",
      "\n",
      "2. Tesla Cybertruck (tesla.com)\n",
      "1159 points by sahin-boydas 9 hours ago  | hide | 1068 comments \n",
      "\n",
      "\n",
      "3. Simple-twitter: A bare-bones Twitter clone implemented in a single file (github.com)\n",
      "385 points by revskill 16 hours ago  | hide | 123 comments \n",
      "\n",
      "\n",
      "4. Show HN: TeXMe Demo – Self-Rendering Markdown and LaTeX Documents (opendocs.github.io)\n",
      "162 points by susam 10 hours ago  | hide | 31 comments \n",
      "\n",
      "\n",
      "5. Humans Can Survive Underwater (project-syndicate.org)\n",
      "19 points by RickJWagner 43 minutes ago  | hide | discuss \n",
      "\n",
      "\n",
      "6. Twitter lets you use 2FA without a phone number (twitter.com)\n",
      "227 points by arkadiyt 15 hours ago  | hide | 125 comments \n",
      "\n",
      "\n",
      "7. A Leaky Cryptocurrency Faucet (umanovskis.se)\n",
      "6 points by ACS_Solver 1 hour ago  | hide | 1 comment \n",
      "\n",
      "\n",
      "8. Evaluating the Search Phase of Neural Architecture Search (arxiv.org)\n",
      "112 points by reedwolf 12 hours ago  | hide | 8 comments \n",
      "\n",
      "\n",
      "9. Topology-disturbing objects: a new class of 3D optical illusion (2017) (tandfonline.com)\n",
      "92 points by aesthesia 10 hours ago  | hide | 9 comments \n",
      "\n",
      "\n",
      "10. Pwn the ESP32 Forever: Flash Encryption and SEC. Boot Keys Extraction (limitedresults.com)\n",
      "199 points by wolframio 16 hours ago  | hide | 71 comments \n",
      "\n",
      "\n",
      "11. Go’s Features of Last Resort (arp242.net)\n",
      "40 points by kristianp 6 hours ago  | hide | 11 comments \n",
      "\n",
      "\n",
      "12. Another New Form of Carbon (sciencemag.org)\n",
      "123 points by User23 10 hours ago  | hide | 10 comments \n",
      "\n",
      "\n",
      "13. GitLab 12.5 (gitlab.com)\n",
      "14 points by bjoko 39 minutes ago  | hide | discuss \n",
      "\n",
      "\n",
      "14. 1000fps image projection on deforming non-rigid surface (u-tokyo.ac.jp)\n",
      "1167 points by hongzi 22 hours ago  | hide | 120 comments \n",
      "\n",
      "\n",
      "15. The Linear Algebra Mapping Problem (arxiv.org)\n",
      "69 points by furcyd 10 hours ago  | hide | 15 comments \n",
      "\n",
      "\n",
      "16. Common Mistakes and Missed Optimization Opportunities in SQL (hakibenita.com)\n",
      "7 points by haki 2 hours ago  | hide | discuss \n",
      "\n",
      "\n",
      "17. The impact of direct air carbon capture on climate change (cognitivemedium.com)\n",
      "114 points by _Microft 17 hours ago  | hide | 103 comments \n",
      "\n",
      "\n",
      "18. Hacker Laws: Theories, principles and patterns that developers will find useful (github.com)\n",
      "147 points by dwmkerr 10 hours ago  | hide | 20 comments \n",
      "\n",
      "\n",
      "19. Indiana man charged with theft for removing police tracking device from car (washingtonpost.com)\n",
      "220 points by pseudolus 10 hours ago  | hide | 131 comments \n",
      "\n",
      "\n",
      "20. Slack’s new WYSIWYG input box is terrible (quuxplusone.github.io)\n",
      "2597 points by ingve 1 day ago  | hide | 1034 comments \n",
      "\n",
      "\n",
      "21. Multi-Value All the Wasm (hacks.mozilla.org)\n",
      "159 points by feross 19 hours ago  | hide | 28 comments \n",
      "\n",
      "\n",
      "22. 3D human model reconstruction with a room-sized LED egg (techcrunch.com)\n",
      "47 points by hongzi 11 hours ago  | hide | 6 comments \n",
      "\n",
      "\n",
      "23. Bad Binder: Android In-the-Wild Exploit (googleprojectzero.blogspot.com)\n",
      "133 points by el_duderino 18 hours ago  | hide | 43 comments \n",
      "\n",
      "\n",
      "24. Deep Learning with PyTorch (pytorch.org)\n",
      "131 points by saranshk 11 hours ago  | hide | 30 comments \n",
      "\n",
      "\n",
      "25. This year’s Nobel prizes prompt soul-searching among economists (economist.com)\n",
      "146 points by pseudolus 18 hours ago  | hide | 104 comments \n",
      "\n",
      "\n",
      "26. Beyond Petra (archaeology.org)\n",
      "36 points by Thevet 11 hours ago  | hide | 6 comments \n",
      "\n",
      "\n",
      "27. The Making of Margaret Atwood (thewalrus.ca)\n",
      "38 points by apollinaire 12 hours ago  | hide | 28 comments \n",
      "\n",
      "\n",
      "28. The trouble with VPN and privacy review sites (privacytools.io)\n",
      "163 points by dngray 21 hours ago  | hide | 99 comments \n",
      "\n",
      "\n",
      "29. An update on YC China (ycombinator.com)\n",
      "369 points by archibaldJ 18 hours ago  | hide | 313 comments \n",
      "\n",
      "\n",
      "30. Exploratory Testing (martinfowler.com)\n",
      "57 points by PretzelFisch 15 hours ago  | hide | 7 comments \n",
      "\n",
      "More\n",
      "\n",
      "\n",
      "Guidelines\n",
      "        | FAQ\n",
      "        | Support\n",
      "        | API\n",
      "        | Security\n",
      "        | Lists\n",
      "        | Bookmarklet\n",
      "        | Legal\n",
      "        | Apply to YC\n",
      "        | ContactSearch:\n",
      "          \n",
      "\n",
      "\n",
      "\n",
      "\n"
     ]
    }
   ],
   "source": [
    "from bs4 import BeautifulSoup\n",
    "\n",
    "# Remove HTML tags using Beautiful Soup library\n",
    "soup = BeautifulSoup(r.text, \"html.parser\")\n",
    "print(soup.get_text())"
   ]
  },
  {
   "cell_type": "code",
   "execution_count": 8,
   "metadata": {
    "scrolled": true
   },
   "outputs": [
    {
     "data": {
      "text/plain": [
       "<tr class=\"athing\" id=\"21604710\">\n",
       "<td align=\"right\" class=\"title\" valign=\"top\"><span class=\"rank\">1.</span></td> <td class=\"votelinks\" valign=\"top\"><center><a href=\"vote?id=21604710&amp;how=up&amp;goto=news\" id=\"up_21604710\"><div class=\"votearrow\" title=\"upvote\"></div></a></center></td><td class=\"title\"><a class=\"storylink\" href=\"https://asthasr.github.io/posts/danger-of-simplicity\">The Danger of “Simplicity”</a><span class=\"sitebit comhead\"> (<a href=\"from?site=asthasr.github.io\"><span class=\"sitestr\">asthasr.github.io</span></a>)</span></td></tr>"
      ]
     },
     "execution_count": 8,
     "metadata": {},
     "output_type": "execute_result"
    }
   ],
   "source": [
    "# Find all articles\n",
    "summaries = soup.find_all(\"tr\", class_=\"athing\")\n",
    "summaries[0]"
   ]
  },
  {
   "cell_type": "code",
   "execution_count": 9,
   "metadata": {
    "scrolled": true
   },
   "outputs": [
    {
     "data": {
      "text/plain": [
       "'The Danger of “Simplicity”'"
      ]
     },
     "execution_count": 9,
     "metadata": {},
     "output_type": "execute_result"
    }
   ],
   "source": [
    "# Extract title\n",
    "summaries[0].find(\"a\", class_=\"storylink\").get_text().strip()"
   ]
  },
  {
   "cell_type": "code",
   "execution_count": 10,
   "metadata": {
    "scrolled": true
   },
   "outputs": [
    {
     "name": "stdout",
     "output_type": "stream",
     "text": [
      "30 Article summaries found. Sample:\n",
      "The Danger of “Simplicity”\n"
     ]
    }
   ],
   "source": [
    "# Find all articles, extract titles\n",
    "articles = []\n",
    "summaries = soup.find_all(\"tr\", class_=\"athing\")\n",
    "for summary in summaries:\n",
    "    title = summary.find(\"a\", class_=\"storylink\").get_text().strip()\n",
    "    articles.append((title))\n",
    "\n",
    "print(len(articles), \"Article summaries found. Sample:\")\n",
    "print(articles[0])"
   ]
  },
  {
   "cell_type": "markdown",
   "metadata": {},
   "source": [
    "## Normalization"
   ]
  },
  {
   "cell_type": "markdown",
   "metadata": {},
   "source": [
    "### Case Normalization"
   ]
  },
  {
   "cell_type": "code",
   "execution_count": 11,
   "metadata": {
    "scrolled": true
   },
   "outputs": [
    {
     "name": "stdout",
     "output_type": "stream",
     "text": [
      "The first time you see The Second Renaissance it may look boring. Look at it at least twice and definitely watch part 2. It will change your view of the matrix. Are the human people the ones who started the war ? Is AI a bad thing ?\n"
     ]
    }
   ],
   "source": [
    "# Sample text\n",
    "text = \"The first time you see The Second Renaissance it may look boring. Look at it at least twice and definitely watch part 2. It will change your view of the matrix. Are the human people the ones who started the war ? Is AI a bad thing ?\"\n",
    "print(text)"
   ]
  },
  {
   "cell_type": "code",
   "execution_count": 12,
   "metadata": {
    "scrolled": true
   },
   "outputs": [
    {
     "name": "stdout",
     "output_type": "stream",
     "text": [
      "the first time you see the second renaissance it may look boring. look at it at least twice and definitely watch part 2. it will change your view of the matrix. are the human people the ones who started the war ? is ai a bad thing ?\n"
     ]
    }
   ],
   "source": [
    "# Convert to lowercase\n",
    "text = text.lower() \n",
    "print(text)"
   ]
  },
  {
   "cell_type": "markdown",
   "metadata": {},
   "source": [
    "### Punctuation Removal"
   ]
  },
  {
   "cell_type": "code",
   "execution_count": 14,
   "metadata": {
    "scrolled": true
   },
   "outputs": [
    {
     "name": "stdout",
     "output_type": "stream",
     "text": [
      "the first time you see the second renaissance it may look boring  look at it at least twice and definitely watch part 2  it will change your view of the matrix  are the human people the ones who started the war   is ai a bad thing  \n"
     ]
    }
   ],
   "source": [
    "import re\n",
    "\n",
    "# Remove punctuation characters\n",
    "text = re.sub(r\"[^a-z0-9]\", \" \", text) # unnecessary A-Z was here\n",
    "print(text)"
   ]
  },
  {
   "cell_type": "markdown",
   "metadata": {},
   "source": [
    "## Tokenization"
   ]
  },
  {
   "cell_type": "code",
   "execution_count": 15,
   "metadata": {
    "scrolled": true
   },
   "outputs": [
    {
     "name": "stdout",
     "output_type": "stream",
     "text": [
      "['the', 'first', 'time', 'you', 'see', 'the', 'second', 'renaissance', 'it', 'may', 'look', 'boring', 'look', 'at', 'it', 'at', 'least', 'twice', 'and', 'definitely', 'watch', 'part', '2', 'it', 'will', 'change', 'your', 'view', 'of', 'the', 'matrix', 'are', 'the', 'human', 'people', 'the', 'ones', 'who', 'started', 'the', 'war', 'is', 'ai', 'a', 'bad', 'thing']\n"
     ]
    }
   ],
   "source": [
    "# Split text into tokens (words)\n",
    "words = text.split()\n",
    "print(words)"
   ]
  },
  {
   "cell_type": "markdown",
   "metadata": {},
   "source": [
    "### NLTK: Natural Language ToolKit"
   ]
  },
  {
   "cell_type": "code",
   "execution_count": 16,
   "metadata": {
    "scrolled": true
   },
   "outputs": [],
   "source": [
    "import os\n",
    "import nltk\n",
    "nltk.data.path.append(os.path.join(os.getcwd(), \"nltk_data\"))"
   ]
  },
  {
   "cell_type": "code",
   "execution_count": 17,
   "metadata": {
    "scrolled": true
   },
   "outputs": [
    {
     "name": "stdout",
     "output_type": "stream",
     "text": [
      "Dr. Smith graduated from the University of Washington. He later started an analytics firm called Lux, which catered to enterprise customers.\n"
     ]
    }
   ],
   "source": [
    "# Another sample text\n",
    "text = \"Dr. Smith graduated from the University of Washington. He later started an analytics firm called Lux, which catered to enterprise customers.\"\n",
    "print(text)"
   ]
  },
  {
   "cell_type": "code",
   "execution_count": 18,
   "metadata": {
    "scrolled": true
   },
   "outputs": [
    {
     "name": "stdout",
     "output_type": "stream",
     "text": [
      "['Dr.', 'Smith', 'graduated', 'from', 'the', 'University', 'of', 'Washington', '.', 'He', 'later', 'started', 'an', 'analytics', 'firm', 'called', 'Lux', ',', 'which', 'catered', 'to', 'enterprise', 'customers', '.']\n"
     ]
    }
   ],
   "source": [
    "from nltk.tokenize import word_tokenize\n",
    "\n",
    "# Split text into words using NLTK\n",
    "words = word_tokenize(text)\n",
    "print(words)"
   ]
  },
  {
   "cell_type": "code",
   "execution_count": 19,
   "metadata": {
    "scrolled": true
   },
   "outputs": [
    {
     "name": "stdout",
     "output_type": "stream",
     "text": [
      "['Dr. Smith graduated from the University of Washington.', 'He later started an analytics firm called Lux, which catered to enterprise customers.']\n"
     ]
    }
   ],
   "source": [
    "from nltk.tokenize import sent_tokenize\n",
    "\n",
    "# Split text into sentences\n",
    "sentences = sent_tokenize(text)\n",
    "print(sentences)"
   ]
  },
  {
   "cell_type": "code",
   "execution_count": 20,
   "metadata": {
    "scrolled": true
   },
   "outputs": [
    {
     "name": "stdout",
     "output_type": "stream",
     "text": [
      "['i', 'me', 'my', 'myself', 'we', 'our', 'ours', 'ourselves', 'you', \"you're\", \"you've\", \"you'll\", \"you'd\", 'your', 'yours', 'yourself', 'yourselves', 'he', 'him', 'his', 'himself', 'she', \"she's\", 'her', 'hers', 'herself', 'it', \"it's\", 'its', 'itself', 'they', 'them', 'their', 'theirs', 'themselves', 'what', 'which', 'who', 'whom', 'this', 'that', \"that'll\", 'these', 'those', 'am', 'is', 'are', 'was', 'were', 'be', 'been', 'being', 'have', 'has', 'had', 'having', 'do', 'does', 'did', 'doing', 'a', 'an', 'the', 'and', 'but', 'if', 'or', 'because', 'as', 'until', 'while', 'of', 'at', 'by', 'for', 'with', 'about', 'against', 'between', 'into', 'through', 'during', 'before', 'after', 'above', 'below', 'to', 'from', 'up', 'down', 'in', 'out', 'on', 'off', 'over', 'under', 'again', 'further', 'then', 'once', 'here', 'there', 'when', 'where', 'why', 'how', 'all', 'any', 'both', 'each', 'few', 'more', 'most', 'other', 'some', 'such', 'no', 'nor', 'not', 'only', 'own', 'same', 'so', 'than', 'too', 'very', 's', 't', 'can', 'will', 'just', 'don', \"don't\", 'should', \"should've\", 'now', 'd', 'll', 'm', 'o', 're', 've', 'y', 'ain', 'aren', \"aren't\", 'couldn', \"couldn't\", 'didn', \"didn't\", 'doesn', \"doesn't\", 'hadn', \"hadn't\", 'hasn', \"hasn't\", 'haven', \"haven't\", 'isn', \"isn't\", 'ma', 'mightn', \"mightn't\", 'mustn', \"mustn't\", 'needn', \"needn't\", 'shan', \"shan't\", 'shouldn', \"shouldn't\", 'wasn', \"wasn't\", 'weren', \"weren't\", 'won', \"won't\", 'wouldn', \"wouldn't\"]\n"
     ]
    }
   ],
   "source": [
    "# List stop words\n",
    "from nltk.corpus import stopwords\n",
    "print(stopwords.words(\"english\"))"
   ]
  },
  {
   "cell_type": "code",
   "execution_count": 22,
   "metadata": {
    "scrolled": true
   },
   "outputs": [
    {
     "name": "stdout",
     "output_type": "stream",
     "text": [
      "['the', 'first', 'time', 'you', 'see', 'the', 'second', 'renaissance', 'it', 'may', 'look', 'boring', 'look', 'at', 'it', 'at', 'least', 'twice', 'and', 'definitely', 'watch', 'part', '2', 'it', 'will', 'change', 'your', 'view', 'of', 'the', 'matrix', 'are', 'the', 'human', 'people', 'the', 'ones', 'who', 'started', 'the', 'war', 'is', 'ai', 'a', 'bad', 'thing']\n"
     ]
    }
   ],
   "source": [
    "# Reset text\n",
    "text = \"The first time you see The Second Renaissance it may look boring. Look at it at least twice and definitely watch part 2. It will change your view of the matrix. Are the human people the ones who started the war ? Is AI a bad thing ?\"\n",
    "\n",
    "# Normalize it\n",
    "text = re.sub(r\"[^a-z0-9]\", \" \", text.lower())\n",
    "\n",
    "# Tokenize it\n",
    "words = text.split()\n",
    "print(words)"
   ]
  },
  {
   "cell_type": "code",
   "execution_count": 23,
   "metadata": {
    "scrolled": true
   },
   "outputs": [
    {
     "name": "stdout",
     "output_type": "stream",
     "text": [
      "['first', 'time', 'see', 'second', 'renaissance', 'may', 'look', 'boring', 'look', 'least', 'twice', 'definitely', 'watch', 'part', '2', 'change', 'view', 'matrix', 'human', 'people', 'ones', 'started', 'war', 'ai', 'bad', 'thing']\n"
     ]
    }
   ],
   "source": [
    "# Remove stop words\n",
    "words = [w for w in words if w not in stopwords.words(\"english\")]\n",
    "print(words)"
   ]
  },
  {
   "cell_type": "markdown",
   "metadata": {},
   "source": [
    "### Sentence Parsing"
   ]
  },
  {
   "cell_type": "code",
   "execution_count": 24,
   "metadata": {
    "scrolled": true
   },
   "outputs": [
    {
     "name": "stdout",
     "output_type": "stream",
     "text": [
      "(S\n",
      "  (NP I)\n",
      "  (VP\n",
      "    (VP (V shot) (NP (Det an) (N elephant)))\n",
      "    (PP (P in) (NP (Det my) (N pajamas)))))\n",
      "(S\n",
      "  (NP I)\n",
      "  (VP\n",
      "    (V shot)\n",
      "    (NP (Det an) (N elephant) (PP (P in) (NP (Det my) (N pajamas))))))\n"
     ]
    }
   ],
   "source": [
    "import nltk\n",
    "\n",
    "# Define a custom grammar\n",
    "my_grammar = nltk.CFG.fromstring(\"\"\"\n",
    "S -> NP VP\n",
    "PP -> P NP\n",
    "NP -> Det N | Det N PP | 'I'\n",
    "VP -> V NP | VP PP\n",
    "Det -> 'an' | 'my'\n",
    "N -> 'elephant' | 'pajamas'\n",
    "V -> 'shot'\n",
    "P -> 'in'\n",
    "\"\"\")\n",
    "parser = nltk.ChartParser(my_grammar)\n",
    "\n",
    "# Parse a sentence\n",
    "sentence = word_tokenize(\"I shot an elephant in my pajamas\")\n",
    "for tree in parser.parse(sentence):\n",
    "    print(tree)"
   ]
  },
  {
   "cell_type": "markdown",
   "metadata": {},
   "source": [
    "## Stemming & Lemmatization\n",
    "\n",
    "### Stemming"
   ]
  },
  {
   "cell_type": "code",
   "execution_count": 25,
   "metadata": {
    "scrolled": true
   },
   "outputs": [
    {
     "name": "stdout",
     "output_type": "stream",
     "text": [
      "['first', 'time', 'see', 'second', 'renaiss', 'may', 'look', 'bore', 'look', 'least', 'twice', 'definit', 'watch', 'part', '2', 'chang', 'view', 'matrix', 'human', 'peopl', 'one', 'start', 'war', 'ai', 'bad', 'thing']\n"
     ]
    }
   ],
   "source": [
    "from nltk.stem.porter import PorterStemmer\n",
    "\n",
    "# Reduce words to their stems\n",
    "stemmed = [PorterStemmer().stem(w) for w in words]\n",
    "print(stemmed)"
   ]
  },
  {
   "cell_type": "markdown",
   "metadata": {},
   "source": [
    "### Lemmatization"
   ]
  },
  {
   "cell_type": "code",
   "execution_count": 26,
   "metadata": {
    "scrolled": true
   },
   "outputs": [
    {
     "name": "stdout",
     "output_type": "stream",
     "text": [
      "['first', 'time', 'see', 'second', 'renaissance', 'may', 'look', 'boring', 'look', 'least', 'twice', 'definitely', 'watch', 'part', '2', 'change', 'view', 'matrix', 'human', 'people', 'one', 'started', 'war', 'ai', 'bad', 'thing']\n"
     ]
    }
   ],
   "source": [
    "from nltk.stem.wordnet import WordNetLemmatizer\n",
    "\n",
    "# Reduce words to their root form\n",
    "lemmed = [WordNetLemmatizer().lemmatize(w) for w in words]\n",
    "print(lemmed)"
   ]
  },
  {
   "cell_type": "code",
   "execution_count": 27,
   "metadata": {
    "scrolled": true
   },
   "outputs": [
    {
     "name": "stdout",
     "output_type": "stream",
     "text": [
      "['first', 'time', 'see', 'second', 'renaissance', 'may', 'look', 'bore', 'look', 'least', 'twice', 'definitely', 'watch', 'part', '2', 'change', 'view', 'matrix', 'human', 'people', 'one', 'start', 'war', 'ai', 'bad', 'thing']\n"
     ]
    }
   ],
   "source": [
    "# Lemmatize verbs by specifying pos\n",
    "lemmed = [WordNetLemmatizer().lemmatize(w, pos='v') for w in lemmed]\n",
    "print(lemmed)"
   ]
  }
 ],
 "metadata": {
  "kernelspec": {
   "display_name": "Python 3",
   "language": "python",
   "name": "python3"
  },
  "language_info": {
   "codemirror_mode": {
    "name": "ipython",
    "version": 3
   },
   "file_extension": ".py",
   "mimetype": "text/x-python",
   "name": "python",
   "nbconvert_exporter": "python",
   "pygments_lexer": "ipython3",
   "version": "3.7.4"
  }
 },
 "nbformat": 4,
 "nbformat_minor": 4
}
